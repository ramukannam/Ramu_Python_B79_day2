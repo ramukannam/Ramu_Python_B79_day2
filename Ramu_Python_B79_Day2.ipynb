{
 "cells": [
  {
   "cell_type": "code",
   "execution_count": 1,
   "id": "180e1566",
   "metadata": {},
   "outputs": [
    {
     "name": "stdout",
     "output_type": "stream",
     "text": [
      "Hello all welcome to python programning\n"
     ]
    }
   ],
   "source": [
    "print(\"Hello all welcome to python programning\")"
   ]
  },
  {
   "cell_type": "code",
   "execution_count": 12,
   "id": "98227bd8",
   "metadata": {},
   "outputs": [
    {
     "name": "stdout",
     "output_type": "stream",
     "text": [
      "employees\n"
     ]
    }
   ],
   "source": [
    "name=\"employees\"\n",
    "print (name)"
   ]
  },
  {
   "cell_type": "code",
   "execution_count": 16,
   "id": "c05b5f76",
   "metadata": {},
   "outputs": [
    {
     "name": "stdout",
     "output_type": "stream",
     "text": [
      "ramu kannam\n"
     ]
    }
   ],
   "source": [
    "fullname = \"ramu kannam\"\n",
    "print(fullname)"
   ]
  },
  {
   "cell_type": "code",
   "execution_count": 17,
   "id": "5191a198",
   "metadata": {},
   "outputs": [
    {
     "name": "stdout",
     "output_type": "stream",
     "text": [
      "RAMU KANNAM\n"
     ]
    }
   ],
   "source": [
    "fullname = \"ramu kannam\"\n",
    "print(fullname.upper())"
   ]
  },
  {
   "cell_type": "code",
   "execution_count": 18,
   "id": "787b53ca",
   "metadata": {},
   "outputs": [
    {
     "name": "stdout",
     "output_type": "stream",
     "text": [
      "ramu kannam\n"
     ]
    }
   ],
   "source": [
    "fullname = \"ramu kannam\"\n",
    "print(fullname.lower())"
   ]
  },
  {
   "cell_type": "code",
   "execution_count": 20,
   "id": "34aaa9e3",
   "metadata": {},
   "outputs": [
    {
     "name": "stdout",
     "output_type": "stream",
     "text": [
      "Ramu Kannam\n"
     ]
    }
   ],
   "source": [
    "fullname = \"ramu kannam\"\n",
    "print(fullname.title())"
   ]
  },
  {
   "cell_type": "code",
   "execution_count": 21,
   "id": "d4082250",
   "metadata": {},
   "outputs": [
    {
     "name": "stdout",
     "output_type": "stream",
     "text": [
      "ramu kannam\n"
     ]
    }
   ],
   "source": [
    "_fullname = \"ramu kannam\"\n",
    "print(_fullname)"
   ]
  },
  {
   "cell_type": "code",
   "execution_count": 23,
   "id": "2bb358f1",
   "metadata": {},
   "outputs": [
    {
     "ename": "SyntaxError",
     "evalue": "invalid syntax (3714782549.py, line 1)",
     "output_type": "error",
     "traceback": [
      "\u001b[1;36m  Cell \u001b[1;32mIn[23], line 1\u001b[1;36m\u001b[0m\n\u001b[1;33m    $fudllname = \"ramu kannam\"\u001b[0m\n\u001b[1;37m    ^\u001b[0m\n\u001b[1;31mSyntaxError\u001b[0m\u001b[1;31m:\u001b[0m invalid syntax\n"
     ]
    }
   ],
   "source": [
    "$fudllname = \"ramu kannam\"\n",
    "print($fudllname)"
   ]
  },
  {
   "cell_type": "code",
   "execution_count": 24,
   "id": "36b0f350",
   "metadata": {},
   "outputs": [
    {
     "name": "stdout",
     "output_type": "stream",
     "text": [
      "ramu kannam\n"
     ]
    }
   ],
   "source": [
    "fudllname = \"ramu kannam\"\n",
    "print(fudllname)"
   ]
  },
  {
   "cell_type": "code",
   "execution_count": null,
   "id": "d3bdb2e4",
   "metadata": {},
   "outputs": [],
   "source": []
  }
 ],
 "metadata": {
  "kernelspec": {
   "display_name": "Python 3 (ipykernel)",
   "language": "python",
   "name": "python3"
  },
  "language_info": {
   "codemirror_mode": {
    "name": "ipython",
    "version": 3
   },
   "file_extension": ".py",
   "mimetype": "text/x-python",
   "name": "python",
   "nbconvert_exporter": "python",
   "pygments_lexer": "ipython3",
   "version": "3.10.9"
  }
 },
 "nbformat": 4,
 "nbformat_minor": 5
}
